{
  "nbformat": 4,
  "nbformat_minor": 0,
  "metadata": {
    "colab": {
      "provenance": []
    },
    "kernelspec": {
      "name": "python3",
      "display_name": "Python 3"
    },
    "language_info": {
      "name": "python"
    }
  },
  "cells": [
    {
      "cell_type": "markdown",
      "source": [
        "# **NOTE - RUN ALL THESE PROGRAMS ON SEPARATE NOTEBOOKS**"
      ],
      "metadata": {
        "id": "uB4JbZkFmyWV"
      }
    },
    {
      "cell_type": "markdown",
      "source": [
        "**Q.1** Build a Number guessing game, in which the user selects a range.\n",
        "\n",
        "Let’s say User selected a range, i.e., from A to B, where A and B belong to Integer.\n",
        "\n",
        "Some random integer will be selected by the system and the user has to guess that integer in the minimum number of guesses."
      ],
      "metadata": {
        "id": "QGH9hfbT2Ouh"
      }
    },
    {
      "cell_type": "code",
      "execution_count": null,
      "metadata": {
        "id": "t-yfpgaN2KAN"
      },
      "outputs": [],
      "source": [
        "# import classes\n",
        "import random\n",
        "import math\n",
        "\n",
        "lower = int(input(\"Enter the lower limit: \"))\n",
        "upper = int(input(\"Enter the upper limit: \"))\n",
        "\n",
        "x = random.randint(lower, upper)\n",
        "number_math = int(round(math.log(upper-lower + 1),2))\n",
        "print(\"You have\", number_math, \"numbers of guesses.\")\n",
        "\n",
        "count = 0\n",
        "\n",
        "while(count < number_math):\n",
        "\n",
        "  count += 1\n",
        "  guess = int(input(\"Guess a number: \"))\n",
        "\n",
        "  if x == guess:\n",
        "      print(\"Congratulations you did it in \",\n",
        "            count, \" try\")\n",
        "        # Once guessed, loop will break\n",
        "      break\n",
        "  elif x > guess:\n",
        "      print(\"You guessed too small!\")\n",
        "  elif x < guess:\n",
        "      print(\"You Guessed too high!\")\n",
        "\n",
        " # If Guessing is more than required guesses,\n",
        "# shows this output.\n",
        "if count >= number_math:\n",
        "    print(\"\\nThe number is: %d\" % x)\n",
        "    print(\"\\tBetter Luck Next time!\")"
      ]
    },
    {
      "cell_type": "markdown",
      "source": [
        "**Q.2** In this game, there is a list of fruits words present, out of which our interpreter will choose 1 random fruit. The user first has to input their names and then, will be asked to guess any alphabet. If the random word contains that alphabet, it will be shown as the output(with correct placement) else the program will ask you to guess another alphabet. The user will be given 12 turns(which can be changed accordingly) to guess the complete word."
      ],
      "metadata": {
        "id": "f4td0b0i89OG"
      }
    },
    {
      "cell_type": "code",
      "source": [
        "# Here is the fruit list\n",
        "import random\n",
        "\n",
        "name = input(\"What is your name? \")\n",
        "# Here the user is asked to enter the name first\n",
        "print(\"Good Luck ! \", name)\n",
        "\n",
        "str_list = [\"Apple\", \"Banana\", \"Mango\",\"Orange\",\"Kiwi\", \"Watermelon\", \"Strawberry\", \"Tomato\", \"Grapes\", \"Pomegranate\",\"Peach\", \"MuskMelon\", \"Dragon fruit\"]\n",
        "rd_fruit = random.choice(str_list)\n",
        "\n",
        "turns = 12\n",
        "flag = 0\n",
        "count = 0\n",
        "while(count <= turns):\n",
        "\n",
        "  count += 1\n",
        "  guess = input(\"Enter any alphabet of your choice apart from a: \")\n",
        "  if len(guess) == 1:\n",
        "    for char in rd_fruit:\n",
        "      if char == guess:\n",
        "        flag +=1\n",
        "        break\n",
        "    print(\"You have\", int(turns-count), \"number of guesses left!\")\n",
        "  else:\n",
        "    print(\"Enter only a single Alphabet\")\n",
        "\n",
        "  if flag ==1:\n",
        "    print(\"The fruit is:\", rd_fruit, \"\\nYou won! In\", count,\" number of guesses\")\n",
        "    break\n",
        "  else:\n",
        "    continue\n",
        "\n",
        "if (count>turns):\n",
        "  print(\"\\nYou Lose! Better Luck next time\")"
      ],
      "metadata": {
        "id": "oTR_9az48_DO"
      },
      "execution_count": null,
      "outputs": []
    },
    {
      "cell_type": "markdown",
      "source": [
        "**Q.3** 21, Bagram, or Twenty plus one is a game which progresses by counting up 1 to 21, with the player who calls “21” is eliminated. It can be played between any number of players. Implementation This is a simple 21 number game using Python programming language. The game illustrated here is between the player and the computer. There can be many variations in the game.\n",
        "\n",
        "The player can choose to start first or second.\n",
        "The list of numbers is shown before the Player takes his turn so that it becomes convenient.\n",
        "If consecutive numbers are not given in input then the player is automatically disqualified.\n",
        "The player loses if he gets the chance to call 21 and wins otherwise."
      ],
      "metadata": {
        "id": "J5LYtPECEtfY"
      }
    },
    {
      "cell_type": "code",
      "source": [
        "# write code here"
      ],
      "metadata": {
        "id": "dtCPk7tnEv0u"
      },
      "execution_count": null,
      "outputs": []
    },
    {
      "cell_type": "markdown",
      "source": [
        "**Q.4** Given the present generation’s acquaintance with gaming and its highly demanded technology, many aspire to pursue the idea of developing and advancing it further. Eventually, everyone starts at the beginning. Mastermind is an old code-breaking game played by two players. The game goes back to the 19th century and can be played with paper and pencil.\n",
        "\n",
        "Two players play the game against each other; let’s assume Player 1 and Player 2.\n",
        "\n",
        "Player 1 plays first by setting a multi-digit number.\n",
        "\n",
        "Player 2 now tries his first attempt at guessing the number.\n",
        "\n",
        "If Player 2 succeeds in his first attempt (despite odds which are highly unlikely) he wins the game and is crowned Mastermind! If not, then Player 1 hints by revealing which digits or numbers Player 2 got correct.\n",
        "\n",
        "The game continues till Player 2 eventually is able to guess the number entirely.\n",
        "\n",
        "Now, Player 2 gets to set the number and Player 1 plays the part of guessing the number.\n",
        "\n",
        "If Player 1 is able to guess the number within a lesser number of tries than Player 2 took, then Player 1 wins the game and is crowned Mastermind.\n",
        "If not, then Player 2 wins the game."
      ],
      "metadata": {
        "id": "pdLxApxaEwQQ"
      }
    },
    {
      "cell_type": "code",
      "source": [
        "# import random\n",
        "\n",
        "\n",
        "# # the .randrange() function generates a\n",
        "# # random number within the specified range.\n",
        "# num = random.randrange(1000, 10000)\n",
        "\n",
        "# n = int(input(\"Guess the 4 digit number:\"))\n",
        "\n",
        "# # condition to test equality of the\n",
        "# # guess made. Program terminates if true.\n",
        "# if (n == num):\n",
        "#     print(\"Great! You guessed the number in just 1 try! You're a Mastermind!\")\n",
        "# else:\n",
        "#     ctr = 0\n",
        "#     while (n != num):\n",
        "#         ctr += 1\n",
        "#         count = 0\n",
        "#         n = str(n)\n",
        "\n",
        "#         # explicit type conversion of a string to an integer\n",
        "#         num = str(num)\n",
        "\n",
        "#         # correct[] list stores digits which are correct\n",
        "#         correct = ['X']*4\n",
        "\n",
        "#         # for loop runs 4 times since the number has 4 digits.\n",
        "#         for i in range(0, 4):\n",
        "\n",
        "#             # checking for equality of digits\n",
        "#             if (n[i] == num[i]):\n",
        "#                 # number of digits guessed correctly increments\n",
        "#                 count += 1\n",
        "#                 # hence, the digit is stored in correct[].\n",
        "#                 correct[i] = n[i]\n",
        "#             else:\n",
        "#                 continue\n",
        "\n",
        "#         print(\"Not quite the number. But you did get \",\n",
        "#                 count, \" digit(s) correct!\")\n",
        "\n",
        "#         print('\\n', correct)\n",
        "#         print('\\n')\n",
        "#         n = int(input(\"Enter your next choice of numbers: \"))\n",
        "\n",
        "#         # when none of the digits are guessed correctly.\n",
        "#         if (count == 0):\n",
        "#             print(\"None of the numbers in your input match.\")\n",
        "#             n = int(input(\"Enter your next choice of numbers: \"))\n",
        "\n",
        "#     # condition for equality.\n",
        "#     if n == num:\n",
        "#     # ctr must be incremented when the n==num gets executed as we have the other incrmentation in the n!=num condition\n",
        "#         ctr+=1\n",
        "#         print(\"You've become a Mastermind!\")\n",
        "#         print(\"It took you only\", ctr, \"tries.\")"
      ],
      "metadata": {
        "id": "FVufknyVEvQU"
      },
      "execution_count": null,
      "outputs": []
    },
    {
      "cell_type": "markdown",
      "source": [
        "**Q.5** FLAMES is a popular game named after the acronym: Friends, Lovers, Affectionate, Marriage, Enemies, Sibling. This game does not accurately predict whether or not an individual is right for you, but it can be fun to play this with your friends."
      ],
      "metadata": {
        "id": "i9EAQmceb-_M"
      }
    },
    {
      "cell_type": "code",
      "source": [
        "# making a flames game\n",
        "\n",
        "flames = [\n",
        "    \"F: Friendship\",\n",
        "    \"L: Love\",\n",
        "    \"A: Affection\",\n",
        "    \"M: Marriage\",\n",
        "    \"E: Enemy\",\n",
        "    \"S: Sibling\"\n",
        "]\n",
        "\n",
        "print(\"Let's play FLAMES, Shall we? \\nEnter the names and check their relationships.\\n\")\n",
        "for f in flames:\n",
        "  print(f, end= \" \")\n",
        "print(\"\\n\")\n",
        "n1 = input(\"\\nEnter the boy's name: \")\n",
        "n2 = input(\"\\nEnter the girl's name: \")\n",
        "\n",
        "n1 = n1.upper()\n",
        "n2 = n2.upper()\n",
        "\n",
        "def length(n1, n2):\n",
        "    c = []  # Initialize c as an empty list\n",
        "    n1 = list(n1)\n",
        "    n2 = list(n2)\n",
        "\n",
        "    for i in range (0, len(n1)):\n",
        "        for j in range (0, len(n2)):\n",
        "            if n1[i] == n2[j]:\n",
        "                c.append(n1[i])\n",
        "\n",
        "    for e in c:\n",
        "      if e in n2:\n",
        "        n2.remove(e)\n",
        "\n",
        "    for e in c:\n",
        "      if e in n1:\n",
        "        n1.remove(e)\n",
        "\n",
        "    x = len(n1) + len(n2)\n",
        "    return x\n",
        "\n",
        "# a gets the number of elements remaing after cutting the common letters\n",
        "a = length(n1,n2)\n",
        "# print(a)\n",
        "\n",
        "# now playing flames\n",
        "while len(flames) > 1:\n",
        "        # store that index value from\n",
        "        # where we have to perform slicing.\n",
        "        split_index = (a % len(flames) - 1)\n",
        "\n",
        "        # this steps is done for performing\n",
        "        # anticlock-wise circular fashion counting.\n",
        "        if split_index >= 0:\n",
        "\n",
        "            # list slicing\n",
        "            right = flames[split_index + 1:]\n",
        "            left = flames[: split_index]\n",
        "\n",
        "            # list concatenation\n",
        "            flames = right + left\n",
        "        else:\n",
        "            flames = flames[: len(flames) - 1]\n",
        "\n",
        "# print final result\n",
        "print(\"\\nRelationship status :\", flames[0])"
      ],
      "metadata": {
        "id": "ITbi6zPacXAk"
      },
      "execution_count": 82,
      "outputs": []
    },
    {
      "cell_type": "markdown",
      "source": [
        "**Q.6** You are a Pokémon trainer. Each Pokémon has its own power, described by a positive integer value. As you travel, you watch Pokémon and you catch each of them. After each catch, you have to display maximum and minimum powers of Pokémon caught so far. You must have linear time complexity. So sorting won’t help here. Try having minimum extra space complexity."
      ],
      "metadata": {
        "id": "RyAIbWPXYtmS"
      }
    },
    {
      "cell_type": "code",
      "source": [
        "import random\n",
        "\n",
        "print(\"The Number of Pokemon's caught by Trainer today.\\n\")\n",
        "n = random.randint(1,10)\n",
        "print(n)\n",
        "powers = []\n",
        "\n",
        "for i in range (0,n):\n",
        "  max = 0\n",
        "  min = 0\n",
        "  power = random.randint(0, 10)\n",
        "  # print(\"Power of Pokemon \",i+1, \"is:\",power,\"\\n\")\n",
        "\n",
        "  powers.append(power)\n",
        "  # print(powers)\n",
        "\n",
        "max = powers[0]\n",
        "min  = powers[0]\n",
        "print(\"\\nMIN\",\"MAX\")\n",
        "for i in range (0,n):\n",
        "  print(\"\\n\", min, \"\", max)\n",
        "\n",
        "  if min>powers[i]:\n",
        "    min = powers[i]\n",
        "\n",
        "  if max<powers[i]:\n",
        "    max = powers[i]"
      ],
      "metadata": {
        "id": "Yb_p8CqCYvbX"
      },
      "execution_count": null,
      "outputs": []
    },
    {
      "cell_type": "markdown",
      "source": [
        "**Q.7** Let’s create a simple command-line Rock-Paper-Scissor game without using any external game libraries like PyGame. In this game, the user gets the first chance to pick the option between Rock, paper, and scissors. After the computer select from the remaining two choices(randomly), the winner is decided as per the rules."
      ],
      "metadata": {
        "id": "zEs-ZjpFeQDH"
      }
    },
    {
      "cell_type": "code",
      "source": [
        "import random\n",
        "\n",
        "list = [\"Rock\", \"Paper\", \"Scissors\"]\n",
        "n = int(input(\"Enter your choice 0, 1, or 2: \"))\n",
        "\n",
        "print(\"\\nYou chose:\", list[n])\n",
        "\n",
        "if (n != 0 and n != 1 and n != 2):\n",
        "    print(\"Wrong Choice. Please! Enter your choice again: \")\n",
        "    n = int(input(\"Enter your choice 0, 1, or 2: \"))\n",
        "\n",
        "choice = \"yes\"  # Initialize choice to \"yes\"\n",
        "\n",
        "while choice == \"yes\" or choice == \"Y\":\n",
        "    computer = random.choice(list)\n",
        "    print(\"\\nComputer chose: \", computer)\n",
        "\n",
        "    if list[n] == \"Rock\" and computer == \"Scissors\":\n",
        "        print(\"You WIN!\")\n",
        "    elif list[n] == \"Scissors\" and computer == \"Paper\":\n",
        "        print(\"You WIN!\")\n",
        "    elif list[n] == \"Paper\" and computer == \"Rock\":\n",
        "        print(\"You WIN!\")\n",
        "    elif list[n] == \"Rock\" and computer == \"Rock\":\n",
        "        print(\"Draw!\")\n",
        "    elif list[n] == \"Paper\" and computer == \"Paper\":\n",
        "        print(\"Draw!\")\n",
        "    elif list[n] == \"Scissors\" and computer == \"Scissors\":\n",
        "        print(\"Draw!\")\n",
        "    elif list[n] == \"Rock\" and computer == \"Paper\":\n",
        "        print(\"Computer WINS! Better Luck Next Time\")\n",
        "    elif list[n] == \"Paper\" and computer == \"Scissors\":\n",
        "        print(\"Computer WINS! Better Luck Next Time\")\n",
        "    elif list[n] == \"Scissors\" and computer == \"Rock\":\n",
        "        print(\"Computer WINS! Better Luck Next Time\")\n",
        "\n",
        "    print(\"\\nDo you want to continue playing? Enter yes/no\")\n",
        "    choice = input(\"\").lower()  # Convert the input to lowercase\n",
        "    if choice == \"no\" or choice==\"n\":\n",
        "        break  # Break out of the loop if the user enters \"no\"\n",
        "\n",
        "    n = int(input(\"Enter your choice 0, 1, or 2: \"))\n",
        "    print(\"\\nYou chose:\", list[n])\n",
        "\n",
        "print(\"\\nThank you for playing\")\n"
      ],
      "metadata": {
        "id": "_50E2R5HeT_x"
      },
      "execution_count": null,
      "outputs": []
    }
  ]
}